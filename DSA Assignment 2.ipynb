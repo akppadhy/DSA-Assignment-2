{
 "cells": [
  {
   "cell_type": "code",
   "execution_count": null,
   "id": "fb03d65d-2afb-4765-b7a2-cee807d04985",
   "metadata": {},
   "outputs": [],
   "source": [
    "#1. Given an integer array nums of 2n integers, group these integers into n pairs (a1, b1), (a2, b2),..., (an, bn) such that the sum of min(ai, bi) for all i is maximized. Return the maximized sum."
   ]
  },
  {
   "cell_type": "code",
   "execution_count": 1,
   "id": "910946a1-a8bc-4b18-a1cc-f897578fb90f",
   "metadata": {},
   "outputs": [
    {
     "name": "stdout",
     "output_type": "stream",
     "text": [
      "4\n"
     ]
    }
   ],
   "source": [
    "def arrayPairSum(nums):\n",
    "    nums.sort()\n",
    "    max_sum = 0\n",
    "    for i in range(0, len(nums), 2):\n",
    "        max_sum += nums[i]\n",
    "    return max_sum\n",
    "\n",
    "# Test Function\n",
    "nums = [1, 4, 3, 2]\n",
    "print(arrayPairSum(nums))  "
   ]
  },
  {
   "cell_type": "code",
   "execution_count": null,
   "id": "3f867158-a934-4db1-9f5c-ec40b4534991",
   "metadata": {},
   "outputs": [],
   "source": [
    "#2. Alice has n candies, where the ith candy is of type candyType[i]. Alice noticed that she started to gain weight, so she visited a doctor.\n",
    "#The doctor advised Alice to only eat n / 2 of the candies she has (n is always even). Alice likes her candies very much, and she wants to eat the maximum number of different types of candies while still following the doctor's advice.\n",
    "#Given the integer array candyType of length n, return the maximum number of different types of candies she can eat if she only eats n / 2 of them."
   ]
  },
  {
   "cell_type": "code",
   "execution_count": 2,
   "id": "6b2a1713-9e81-4515-87e6-eeb485a0f431",
   "metadata": {},
   "outputs": [
    {
     "name": "stdout",
     "output_type": "stream",
     "text": [
      "3\n"
     ]
    }
   ],
   "source": [
    "def distributeCandies(candyType):\n",
    "    unique_candies = set()\n",
    "    for candy in candyType:\n",
    "        unique_candies.add(candy)\n",
    "\n",
    "    half_candies = len(candyType) // 2\n",
    "    return min(len(unique_candies), half_candies)\n",
    "\n",
    "# Test Function:\n",
    "candyType = [1, 1, 2, 2, 3, 3]\n",
    "print(distributeCandies(candyType))  "
   ]
  },
  {
   "cell_type": "code",
   "execution_count": null,
   "id": "d4de0a24-dbfc-4a8a-965a-6adb8221bcbb",
   "metadata": {},
   "outputs": [],
   "source": [
    "#3. We define a harmonious array as an array where the difference between its maximum value and its minimum value is exactly 1.\n",
    "#Given an integer array nums, return the length of its longest harmonious subsequence among all its possible subsequences.\n",
    "#A subsequence of an array is a sequence that can be derived from the array by deleting some or no elements without changing the order of the remaining elements."
   ]
  },
  {
   "cell_type": "code",
   "execution_count": 3,
   "id": "d8df25f5-9c2a-4f99-b903-bfc09784aa1f",
   "metadata": {},
   "outputs": [
    {
     "name": "stdout",
     "output_type": "stream",
     "text": [
      "5\n"
     ]
    }
   ],
   "source": [
    "def findLHS(nums):\n",
    "    counter = {}\n",
    "    for num in nums:\n",
    "        if num in counter:\n",
    "            counter[num] += 1\n",
    "        else:\n",
    "            counter[num] = 1\n",
    "\n",
    "    max_length = 0\n",
    "    for num in counter:\n",
    "        if num + 1 in counter:\n",
    "            max_length = max(max_length, counter[num] + counter[num + 1])\n",
    "\n",
    "    return max_length\n",
    "\n",
    "# Test Function\n",
    "nums = [1, 3, 2, 2, 5, 2, 3, 7]\n",
    "print(findLHS(nums))  "
   ]
  },
  {
   "cell_type": "code",
   "execution_count": null,
   "id": "952cdeff-a3a1-45d5-870f-0ad9f1a44f26",
   "metadata": {},
   "outputs": [],
   "source": [
    "#4. You have a long flowerbed in which some of the plots are planted, and some are not. However, flowers cannot be planted in adjacent plots. \n",
    "#Given an integer array flowerbed containing 0's and 1's, where 0 means empty and 1 means not empty, and an integer n, return true if n new flowers \n",
    "#can be planted in the flowerbed without violating the no-adjacent-flowers rule and false otherwise."
   ]
  },
  {
   "cell_type": "code",
   "execution_count": 4,
   "id": "20b819a6-f970-498f-9304-4e004909932c",
   "metadata": {},
   "outputs": [
    {
     "name": "stdout",
     "output_type": "stream",
     "text": [
      "True\n"
     ]
    }
   ],
   "source": [
    "def canPlaceFlowers(flowerbed, n):\n",
    "    count = 0\n",
    "    length = len(flowerbed)\n",
    "\n",
    "    for i in range(length):\n",
    "        if (\n",
    "            flowerbed[i] == 0 and\n",
    "            (i == 0 or flowerbed[i - 1] == 0) and\n",
    "            (i == length - 1 or flowerbed[i + 1] == 0)\n",
    "        ):\n",
    "            flowerbed[i] = 1\n",
    "            count += 1\n",
    "            n -= 1\n",
    "            if n == 0:\n",
    "                return True\n",
    "\n",
    "    return count >= n\n",
    "\n",
    "# Test Function\n",
    "flowerbed = [1, 0, 0, 0, 1]\n",
    "n = 1\n",
    "print(canPlaceFlowers(flowerbed, n))  "
   ]
  },
  {
   "cell_type": "code",
   "execution_count": null,
   "id": "46d6c9b4-329c-4b6d-bbe3-fc345ef3d6b4",
   "metadata": {},
   "outputs": [],
   "source": [
    "#5. Given an integer array nums, find three numbers whose product is maximum and return the maximum product."
   ]
  },
  {
   "cell_type": "code",
   "execution_count": 5,
   "id": "72d81d7c-0d3e-4d61-bee0-6b9251ecb34d",
   "metadata": {},
   "outputs": [
    {
     "name": "stdout",
     "output_type": "stream",
     "text": [
      "6\n"
     ]
    }
   ],
   "source": [
    "def maximumProduct(nums):\n",
    "    nums.sort()\n",
    "    max_product = nums[-1] * nums[-2] * nums[-3]\n",
    "    return max(max_product, nums[0] * nums[1] * nums[-1])\n",
    "\n",
    "# Test Function\n",
    "nums = [1, 2, 3]\n",
    "print(maximumProduct(nums)) "
   ]
  },
  {
   "cell_type": "code",
   "execution_count": null,
   "id": "49068497-2cc7-4b73-b0a9-118be022e04c",
   "metadata": {},
   "outputs": [],
   "source": [
    "#6. Given an array of integers nums which is sorted in ascending order, and an integer target, write a function to search target in nums. If target exists, then return its index. Otherwise, return -1.\n",
    "#You must write an algorithm with O(log n) runtime complexity."
   ]
  },
  {
   "cell_type": "code",
   "execution_count": 6,
   "id": "29294813-1a54-442c-bc4f-717a1f355a1a",
   "metadata": {},
   "outputs": [
    {
     "name": "stdout",
     "output_type": "stream",
     "text": [
      "4\n"
     ]
    }
   ],
   "source": [
    "def search(nums, target):\n",
    "    left, right = 0, len(nums) - 1\n",
    "\n",
    "    while left <= right:\n",
    "        mid = (left + right) // 2\n",
    "\n",
    "        if nums[mid] == target:\n",
    "            return mid\n",
    "        elif nums[mid] < target:\n",
    "            left = mid + 1\n",
    "        else:\n",
    "            right = mid - 1\n",
    "\n",
    "    return -1\n",
    "\n",
    "# Test Function\n",
    "nums = [-1, 0, 3, 5, 9, 12]\n",
    "target = 9\n",
    "print(search(nums, target))"
   ]
  },
  {
   "cell_type": "code",
   "execution_count": null,
   "id": "927e6a99-5236-43d6-9b74-bf9e524edd7c",
   "metadata": {},
   "outputs": [],
   "source": [
    "#7. An array is monotonic if it is either monotone increasing or monotone decreasing.\n",
    "#An array nums is monotone increasing if for all i <= j, nums[i] <= nums[j]. An array nums is monotone decreasing if for all i <= j, nums[i] >= nums[j].\n",
    "#Given an integer array nums, return true if the given array is monotonic, or false otherwise."
   ]
  },
  {
   "cell_type": "code",
   "execution_count": 7,
   "id": "22ae609e-4e60-468d-8c3f-3d9e91e1df85",
   "metadata": {},
   "outputs": [
    {
     "name": "stdout",
     "output_type": "stream",
     "text": [
      "True\n"
     ]
    }
   ],
   "source": [
    "def isMonotonic(nums):\n",
    "    isIncreasing = isDecreasing = True\n",
    "\n",
    "    for i in range(1, len(nums)):\n",
    "        if nums[i] < nums[i-1]:\n",
    "            isIncreasing = False\n",
    "        if nums[i] > nums[i-1]:\n",
    "            isDecreasing = False\n",
    "        if not isIncreasing and not isDecreasing:\n",
    "            return False\n",
    "\n",
    "    return True\n",
    "\n",
    "# Test Function\n",
    "nums = [1, 2, 2, 3]\n",
    "print(isMonotonic(nums))"
   ]
  },
  {
   "cell_type": "code",
   "execution_count": 1,
   "id": "9afcb8b8-702e-4d5e-a340-84fcde5fc73d",
   "metadata": {},
   "outputs": [],
   "source": [
    "#8. You are given an integer array nums and an integer k.\n",
    "#In one operation, you can choose any index i where 0 <= i < nums.length and change nums[i] to nums[i] + x where x is an integer from the range [-k, k]. You can apply this operation at most once for each index i.\n",
    "#The score of nums is the difference between the maximum and minimum elements in nums.\n",
    "#Return the minimum score of nums after applying the mentioned operation at most once for each index in it.\n",
    "\n",
    "#Example 1:\n",
    "#Input: nums = [1], k = 0\n",
    "#Output: 0\n",
    "\n",
    "#Explanation: The score is max(nums) - min(nums) = 1 - 1 = 0."
   ]
  },
  {
   "cell_type": "code",
   "execution_count": 3,
   "id": "8156b6b7-c2f0-4291-8e66-e29397c6f750",
   "metadata": {},
   "outputs": [],
   "source": [
    "def minimumScore(nums, k):\n",
    "    min_num = min(nums)\n",
    "    max_num = max(nums)\n",
    "    \n",
    "    if max_num - min_num <= 2 * k:\n",
    "        return 0\n",
    "    \n",
    "    mid_num = (min_num + max_num) // 2\n",
    "    \n",
    "    for i in range(len(nums)):\n",
    "        if nums[i] < mid_num - k:\n",
    "            nums[i] = mid_num - k\n",
    "        elif nums[i] > mid_num + k:\n",
    "            nums[i] = mid_num + k\n",
    "    \n",
    "    return max(nums) - min(nums)"
   ]
  },
  {
   "cell_type": "code",
   "execution_count": 4,
   "id": "30ab908b-5e28-490e-a135-cc7ca6ef9c2d",
   "metadata": {},
   "outputs": [
    {
     "name": "stdout",
     "output_type": "stream",
     "text": [
      "0\n"
     ]
    }
   ],
   "source": [
    "nums = [1]\n",
    "k = 0\n",
    "print(minimumScore(nums, k))\n"
   ]
  },
  {
   "cell_type": "code",
   "execution_count": null,
   "id": "1ce6f247-db87-472c-ba9f-418f41e126d6",
   "metadata": {},
   "outputs": [],
   "source": []
  }
 ],
 "metadata": {
  "kernelspec": {
   "display_name": "Python 3 (ipykernel)",
   "language": "python",
   "name": "python3"
  },
  "language_info": {
   "codemirror_mode": {
    "name": "ipython",
    "version": 3
   },
   "file_extension": ".py",
   "mimetype": "text/x-python",
   "name": "python",
   "nbconvert_exporter": "python",
   "pygments_lexer": "ipython3",
   "version": "3.10.6"
  }
 },
 "nbformat": 4,
 "nbformat_minor": 5
}
